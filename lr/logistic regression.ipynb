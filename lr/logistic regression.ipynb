{
 "cells": [
  {
   "cell_type": "code",
   "execution_count": 2,
   "metadata": {},
   "outputs": [],
   "source": [
    "import pandas as pd\n",
    "import numpy as np\n",
    "import math"
   ]
  },
  {
   "cell_type": "code",
   "execution_count": 3,
   "metadata": {},
   "outputs": [],
   "source": [
    "data = pd.read_csv('testSet.txt',delimiter='\\t',header=None)"
   ]
  },
  {
   "cell_type": "code",
   "execution_count": 22,
   "metadata": {},
   "outputs": [],
   "source": [
    "# 计算sigmoid值\n",
    "def sigmoid(x):\n",
    "    try:\n",
    "        return 1/(1+math.exp(-x))\n",
    "    except OverflowError:\n",
    "        print(x)\n",
    "        return 1/float('inf')"
   ]
  },
  {
   "cell_type": "code",
   "execution_count": 23,
   "metadata": {},
   "outputs": [],
   "source": [
    "def logistic_regression(X,y):\n",
    "    # 梯度下降算法\n",
    "    X = np.array(X)\n",
    "    y = np.array(y).reshape((X.shape[0],1))\n",
    "    # 学习速率\n",
    "    alpha = 0.1\n",
    "    b = [1]*X.shape[0]\n",
    "    X = np.c_[X,b]\n",
    "    weight = np.ones((X.shape[1],1))\n",
    "    n = 0\n",
    "    # 训练轮数　1000\n",
    "    while n<100:\n",
    "        n += 1\n",
    "        prediction = np.dot(X,weight)\n",
    "        prediction = prediction.flatten()\n",
    "        prediction = np.array([sigmoid(x) for x in prediction])\n",
    "        prediction = prediction.reshape((X.shape[0],1))\n",
    "        error = prediction-y\n",
    "        weight = weight-alpha*np.dot(X.transpose(),error)\n",
    "\n",
    "    # 训练结束返回预测的y值\n",
    "    y_pred = np.dot(X,weight).flatten()\n",
    "    #print(y_pred)\n",
    "    y_pred = list(map(sigmoid,y_pred))\n",
    "    return y_pred\n",
    "    "
   ]
  },
  {
   "cell_type": "code",
   "execution_count": 88,
   "metadata": {},
   "outputs": [],
   "source": [
    "def logistic_regression_v2(X,y):\n",
    "    # 随机梯度下降算法\n",
    "    X = np.array(X)\n",
    "    y = np.array(y).reshape((X.shape[0],1))\n",
    "    # 学习速率\n",
    "    alpha = 0.1\n",
    "    b = [1]*X.shape[0]\n",
    "    X = np.c_[X,b]\n",
    "    weight = np.ones((X.shape[1],1))\n",
    "    n = 0\n",
    "    # 训练轮数\n",
    "    while n<５0:\n",
    "        n += 1\n",
    "        # 学习速率依次下降\n",
    "        alpha = alpha/1.1+0.01\n",
    "        for i in range(0,X.shape[0]):\n",
    "            prediction = np.dot(X[i],weight)\n",
    "            prediction = sigmoid(prediction)\n",
    "            error = prediction-y[i]            \n",
    "            delta_weight = alpha*error*X[i][np.newaxis]\n",
    "            weight = weight-delta_weight.transpose()\n",
    "            #print(weight)\n",
    "    # 训练结束返回预测的y值\n",
    "    y_pred = np.dot(X,weight).flatten()\n",
    "    #print(y_pred)\n",
    "    y_pred = list(map(sigmoid,y_pred))\n",
    "    return y_pred      "
   ]
  },
  {
   "cell_type": "code",
   "execution_count": 90,
   "metadata": {},
   "outputs": [
    {
     "name": "stdout",
     "output_type": "stream",
     "text": [
      "训练集上准确率为0.950000\n"
     ]
    }
   ],
   "source": [
    "X = data.iloc[:,0:2]\n",
    "y = data.iloc[:,2]\n",
    "# 梯度下降法\n",
    "#y_pred = logistic_regression_v2(X,y)\n",
    "# 随机梯度下降法\n",
    "y_pred = logistic_regression_v2(X,y)\n",
    "\n",
    "y_pred = np.array(y_pred)\n",
    "y_pred[y_pred<0.5] = 0\n",
    "y_pred[y_pred>=0.5] = 1\n",
    "p = sum([1 if a==b else 0 for (a,b) in zip(y,y_pred)])/len(y)\n",
    "print('训练集上准确率为%f'%p)\n"
   ]
  },
  {
   "cell_type": "code",
   "execution_count": null,
   "metadata": {},
   "outputs": [],
   "source": []
  },
  {
   "cell_type": "code",
   "execution_count": null,
   "metadata": {},
   "outputs": [],
   "source": []
  }
 ],
 "metadata": {
  "kernelspec": {
   "display_name": "Python 3",
   "language": "python",
   "name": "python3"
  },
  "language_info": {
   "codemirror_mode": {
    "name": "ipython",
    "version": 3
   },
   "file_extension": ".py",
   "mimetype": "text/x-python",
   "name": "python",
   "nbconvert_exporter": "python",
   "pygments_lexer": "ipython3",
   "version": "3.6.2"
  }
 },
 "nbformat": 4,
 "nbformat_minor": 2
}
