{
 "cells": [
  {
   "cell_type": "code",
   "execution_count": 1,
   "metadata": {},
   "outputs": [],
   "source": [
    "import pandas as pd\n",
    "import numpy as np"
   ]
  },
  {
   "cell_type": "code",
   "execution_count": 41,
   "metadata": {},
   "outputs": [],
   "source": [
    "def load_data_set(filename):\n",
    "    data_mat = []\n",
    "    fr = open(filename)\n",
    "    for line in fr.readlines():\n",
    "        curline = line.strip().split('\\t')\n",
    "        fltline = list(map(float,curline))\n",
    "        data_mat.append(fltline)\n",
    "    return np.array(data_mat)\n",
    "# cart tree is binary tree ,referenced from <<machine learning in action>>\n",
    "def bins_split_dataset(dataset,feature,value):\n",
    "    mat0 = dataset[np.nonzero(dataset[:,feature]>value)[0],:]\n",
    "    mat1 = dataset[np.nonzero(dataset[:,feature]<=value)[0],:]\n",
    "    return mat0,mat1\n",
    "def reg_leaf(dataset):\n",
    "    return np.mean(dataset[:,-1])\n",
    "def reg_error(dataset):\n",
    "    return np.var(dataset[:,-1])*np.shape(dataset)[0]\n",
    "def choosebestsplit(dataset,leaf_type=reg_leaf,error_type=reg_error,ops=(1,4)):\n",
    "    tols = ops[0]\n",
    "    toln = ops[1]\n",
    "    if len(set(dataset[:,-1].T.tolist()))==1:\n",
    "        return None,leaf_type(dataset)\n",
    "    m,n = np.shape(dataset)\n",
    "    S = error_type(dataset)\n",
    "    bestS = np.inf;best_index = 0;best_value = 0\n",
    "    for f_index in range(n-1):\n",
    "        for split_value in set(dataset[:,f_index]):\n",
    "            mat0,mat1 = bins_split_dataset(dataset,f_index,split_value)\n",
    "            if (np.shape(mat0)[0]<toln) or (np.shape(mat1)[0]<toln):continue\n",
    "            news = error_type(mat0)+error_type(mat1)\n",
    "            if news < bestS:\n",
    "                best_index = f_index\n",
    "                best_value = split_value\n",
    "                bestS = news\n",
    "    if (S-bestS)<tols:\n",
    "        return None,leaf_type(dataset)\n",
    "    mat0,mat1 = bins_split_dataset(dataset,best_index,best_value)\n",
    "    if (np.shape(mat0)[0]<toln) or (np.shape(mat1)[0]<toln):\n",
    "        return None,leaf_type(dataset)\n",
    "    return best_index,best_value\n",
    "def create_tree(dataset,leaf_type=reg_leaf,error_type=reg_error,ops=(1,4)):\n",
    "    feat,value = choosebestsplit(dataset,leaf_type,error_type,ops)\n",
    "    if feat == None:return value\n",
    "    ret_tree = {}\n",
    "    ret_tree['spind'] = feat\n",
    "    ret_tree['spval'] = value\n",
    "    l_tree,r_tree = bins_split_dataset(dataset,feat,value)\n",
    "    ret_tree['left'] = create_tree(l_tree,leaf_type,error_type,ops)\n",
    "    ret_tree['right'] = create_tree(r_tree,leaf_type,error_type,ops)\n",
    "    return ret_tree"
   ]
  },
  {
   "cell_type": "code",
   "execution_count": 43,
   "metadata": {},
   "outputs": [
    {
     "data": {
      "text/plain": [
       "{'left': {'left': {'left': 3.9871631999999999,\n",
       "   'right': 2.9836209534883724,\n",
       "   'spind': 1,\n",
       "   'spval': 0.79758300000000004},\n",
       "  'right': 1.980035071428571,\n",
       "  'spind': 1,\n",
       "  'spval': 0.58200200000000002},\n",
       " 'right': {'left': 1.0289583666666666,\n",
       "  'right': -0.023838155555555553,\n",
       "  'spind': 1,\n",
       "  'spval': 0.19783400000000001},\n",
       " 'spind': 1,\n",
       " 'spval': 0.39434999999999998}"
      ]
     },
     "execution_count": 43,
     "metadata": {},
     "output_type": "execute_result"
    }
   ],
   "source": [
    "my_dat = load_data_set('ex0.txt')\n",
    "create_tree(my_dat)"
   ]
  },
  {
   "cell_type": "code",
   "execution_count": 9,
   "metadata": {},
   "outputs": [
    {
     "data": {
      "text/plain": [
       "(array([[3, 4, 5]]), array([[1, 2, 3],\n",
       "        [2, 3, 4]]))"
      ]
     },
     "execution_count": 9,
     "metadata": {},
     "output_type": "execute_result"
    }
   ],
   "source": [
    "dataset = [[1,2,3],[2,3,4],[3,4,5]]\n",
    "dataset = np.array(dataset)\n",
    "bins_split_dataset(dataset,1,3)"
   ]
  },
  {
   "cell_type": "code",
   "execution_count": 26,
   "metadata": {},
   "outputs": [
    {
     "data": {
      "text/plain": [
       "[1.0, 2.0, 3.0]"
      ]
     },
     "execution_count": 26,
     "metadata": {},
     "output_type": "execute_result"
    }
   ],
   "source": [
    "list(map(float,[1,2,3]))"
   ]
  },
  {
   "cell_type": "code",
   "execution_count": null,
   "metadata": {},
   "outputs": [],
   "source": []
  },
  {
   "cell_type": "code",
   "execution_count": null,
   "metadata": {},
   "outputs": [],
   "source": []
  }
 ],
 "metadata": {
  "kernelspec": {
   "display_name": "Python 3",
   "language": "python",
   "name": "python3"
  },
  "language_info": {
   "codemirror_mode": {
    "name": "ipython",
    "version": 3
   },
   "file_extension": ".py",
   "mimetype": "text/x-python",
   "name": "python",
   "nbconvert_exporter": "python",
   "pygments_lexer": "ipython3",
   "version": "3.6.2"
  }
 },
 "nbformat": 4,
 "nbformat_minor": 2
}
