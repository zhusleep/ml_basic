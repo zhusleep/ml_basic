{
 "cells": [
  {
   "cell_type": "code",
   "execution_count": 1,
   "metadata": {},
   "outputs": [],
   "source": [
    "import numpy as np\n",
    "import pandas as pd\n",
    "data = pd.read_csv('ex0.txt',delimiter='\\t',header=None)"
   ]
  },
  {
   "cell_type": "code",
   "execution_count": 2,
   "metadata": {},
   "outputs": [
    {
     "name": "stdout",
     "output_type": "stream",
     "text": [
      "     0         1         2\n",
      "0  1.0  0.067732  3.176513\n",
      "1  1.0  0.427810  3.816464\n",
      "2  1.0  0.995731  4.550095\n",
      "3  1.0  0.738336  4.256571\n",
      "4  1.0  0.981083  4.560815\n"
     ]
    }
   ],
   "source": [
    "print(data.head())"
   ]
  },
  {
   "cell_type": "code",
   "execution_count": 3,
   "metadata": {},
   "outputs": [],
   "source": [
    "# 标准方法ｗ=(xTx)^-1*xTy\n",
    "# 线性回归\n",
    "def standard(x,y):\n",
    "    xTx = x.T*x\n",
    "    y = y.T\n",
    "    # 判断是否可逆\n",
    "    if np.linalg.det(xTx)==0:\n",
    "        return \n",
    "    else:\n",
    "        weights = xTx.I*(x.T*y)\n",
    "        return x*weights\n",
    "    \n",
    "# 局部加权线性回归\n",
    "def lwlr(x_test,x,y):\n",
    "    # 创建权重矩阵\n",
    "    m = x.shape[0]\n",
    "    weights = np.mat(np.eye((m)))\n",
    "    k = 2\n",
    "    for j in range(m):\n",
    "        delta = x_test-x[j] \n",
    "        weights[j,j] = np.exp(delta*delta.T/(-2*k**2))\n",
    "    xTx = x.T*weights*x\n",
    "    print(xTx.shape)\n",
    "    y = y.T\n",
    "    # 判断是否可逆\n",
    "    if np.linalg.det(xTx)==0:\n",
    "        return \n",
    "    else:\n",
    "        weights = xTx.I*(x.T*weights*y)   \n",
    "        return x_test*weights"
   ]
  },
  {
   "cell_type": "code",
   "execution_count": 4,
   "metadata": {},
   "outputs": [
    {
     "name": "stdout",
     "output_type": "stream",
     "text": [
      "(2, 2)\n",
      "[[ 3.73297475]]\n"
     ]
    }
   ],
   "source": [
    "x = data.iloc[:,0:2].values\n",
    "y = data.iloc[:,2].values\n",
    "x = np.mat(x)\n",
    "y = np.mat(y)\n",
    "#print(standard(x,y))\n",
    "print(lwlr(x[1],x,y))"
   ]
  }
 ],
 "metadata": {
  "kernelspec": {
   "display_name": "Python 3",
   "language": "python",
   "name": "python3"
  },
  "language_info": {
   "codemirror_mode": {
    "name": "ipython",
    "version": 3
   },
   "file_extension": ".py",
   "mimetype": "text/x-python",
   "name": "python",
   "nbconvert_exporter": "python",
   "pygments_lexer": "ipython3",
   "version": "3.6.2"
  }
 },
 "nbformat": 4,
 "nbformat_minor": 2
}
